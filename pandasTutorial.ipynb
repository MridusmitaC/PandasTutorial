{
  "metadata": {
    "language_info": {
      "codemirror_mode": {
        "name": "python",
        "version": 3
      },
      "file_extension": ".py",
      "mimetype": "text/x-python",
      "name": "python",
      "nbconvert_exporter": "python",
      "pygments_lexer": "ipython3",
      "version": "3.8"
    },
    "kernelspec": {
      "name": "python",
      "display_name": "Python (Pyodide)",
      "language": "python"
    }
  },
  "nbformat_minor": 4,
  "nbformat": 4,
  "cells": [
    {
      "cell_type": "code",
      "source": "import numpy as np\nimport pandas as pd",
      "metadata": {
        "trusted": true
      },
      "execution_count": 1,
      "outputs": []
    },
    {
      "cell_type": "code",
      "source": "dist1={\n    \"name\":['mridu','debanga','dearr','manun'],\n    \"marks\":['99','98','97','96'],\n    \"city\":['rangia','jorhat','silchar','NITS']\n}",
      "metadata": {
        "trusted": true
      },
      "execution_count": 2,
      "outputs": []
    },
    {
      "cell_type": "code",
      "source": "df=pd.DataFrame(dist1)",
      "metadata": {
        "trusted": true
      },
      "execution_count": 3,
      "outputs": []
    },
    {
      "cell_type": "code",
      "source": "df",
      "metadata": {
        "trusted": true
      },
      "execution_count": 4,
      "outputs": [
        {
          "execution_count": 4,
          "output_type": "execute_result",
          "data": {
            "text/plain": "      name marks     city\n0    mridu    99   rangia\n1  debanga    98   jorhat\n2    dearr    97  silchar\n3    manun    96     NITS",
            "text/html": "<div>\n<style scoped>\n    .dataframe tbody tr th:only-of-type {\n        vertical-align: middle;\n    }\n\n    .dataframe tbody tr th {\n        vertical-align: top;\n    }\n\n    .dataframe thead th {\n        text-align: right;\n    }\n</style>\n<table border=\"1\" class=\"dataframe\">\n  <thead>\n    <tr style=\"text-align: right;\">\n      <th></th>\n      <th>name</th>\n      <th>marks</th>\n      <th>city</th>\n    </tr>\n  </thead>\n  <tbody>\n    <tr>\n      <th>0</th>\n      <td>mridu</td>\n      <td>99</td>\n      <td>rangia</td>\n    </tr>\n    <tr>\n      <th>1</th>\n      <td>debanga</td>\n      <td>98</td>\n      <td>jorhat</td>\n    </tr>\n    <tr>\n      <th>2</th>\n      <td>dearr</td>\n      <td>97</td>\n      <td>silchar</td>\n    </tr>\n    <tr>\n      <th>3</th>\n      <td>manun</td>\n      <td>96</td>\n      <td>NITS</td>\n    </tr>\n  </tbody>\n</table>\n</div>"
          },
          "metadata": {}
        }
      ]
    },
    {
      "cell_type": "code",
      "source": "# to creat a spreadsheet and add all the data of df",
      "metadata": {},
      "execution_count": null,
      "outputs": []
    },
    {
      "cell_type": "code",
      "source": "df.to_csv('friends.csv')",
      "metadata": {
        "trusted": true
      },
      "execution_count": 6,
      "outputs": []
    },
    {
      "cell_type": "code",
      "source": "df.head()",
      "metadata": {},
      "execution_count": null,
      "outputs": [
        {
          "execution_count": 7,
          "output_type": "execute_result",
          "data": {
            "text/plain": "      name marks     city\n0    mridu    99   rangia\n1  debanga    98   jorhat\n2    dearr    97  silchar\n3    manun    96     NITS",
            "text/html": "<div>\n<style scoped>\n    .dataframe tbody tr th:only-of-type {\n        vertical-align: middle;\n    }\n\n    .dataframe tbody tr th {\n        vertical-align: top;\n    }\n\n    .dataframe thead th {\n        text-align: right;\n    }\n</style>\n<table border=\"1\" class=\"dataframe\">\n  <thead>\n    <tr style=\"text-align: right;\">\n      <th></th>\n      <th>name</th>\n      <th>marks</th>\n      <th>city</th>\n    </tr>\n  </thead>\n  <tbody>\n    <tr>\n      <th>0</th>\n      <td>mridu</td>\n      <td>99</td>\n      <td>rangia</td>\n    </tr>\n    <tr>\n      <th>1</th>\n      <td>debanga</td>\n      <td>98</td>\n      <td>jorhat</td>\n    </tr>\n    <tr>\n      <th>2</th>\n      <td>dearr</td>\n      <td>97</td>\n      <td>silchar</td>\n    </tr>\n    <tr>\n      <th>3</th>\n      <td>manun</td>\n      <td>96</td>\n      <td>NITS</td>\n    </tr>\n  </tbody>\n</table>\n</div>"
          },
          "metadata": {}
        }
      ]
    },
    {
      "cell_type": "code",
      "source": "df.head(2)",
      "metadata": {},
      "execution_count": null,
      "outputs": [
        {
          "execution_count": 8,
          "output_type": "execute_result",
          "data": {
            "text/plain": "      name marks    city\n0    mridu    99  rangia\n1  debanga    98  jorhat",
            "text/html": "<div>\n<style scoped>\n    .dataframe tbody tr th:only-of-type {\n        vertical-align: middle;\n    }\n\n    .dataframe tbody tr th {\n        vertical-align: top;\n    }\n\n    .dataframe thead th {\n        text-align: right;\n    }\n</style>\n<table border=\"1\" class=\"dataframe\">\n  <thead>\n    <tr style=\"text-align: right;\">\n      <th></th>\n      <th>name</th>\n      <th>marks</th>\n      <th>city</th>\n    </tr>\n  </thead>\n  <tbody>\n    <tr>\n      <th>0</th>\n      <td>mridu</td>\n      <td>99</td>\n      <td>rangia</td>\n    </tr>\n    <tr>\n      <th>1</th>\n      <td>debanga</td>\n      <td>98</td>\n      <td>jorhat</td>\n    </tr>\n  </tbody>\n</table>\n</div>"
          },
          "metadata": {}
        }
      ]
    },
    {
      "cell_type": "code",
      "source": "df.tail(2)",
      "metadata": {
        "trusted": true
      },
      "execution_count": 10,
      "outputs": [
        {
          "execution_count": 10,
          "output_type": "execute_result",
          "data": {
            "text/plain": "    name marks     city\n2  dearr    97  silchar\n3  manun    96     NITS",
            "text/html": "<div>\n<style scoped>\n    .dataframe tbody tr th:only-of-type {\n        vertical-align: middle;\n    }\n\n    .dataframe tbody tr th {\n        vertical-align: top;\n    }\n\n    .dataframe thead th {\n        text-align: right;\n    }\n</style>\n<table border=\"1\" class=\"dataframe\">\n  <thead>\n    <tr style=\"text-align: right;\">\n      <th></th>\n      <th>name</th>\n      <th>marks</th>\n      <th>city</th>\n    </tr>\n  </thead>\n  <tbody>\n    <tr>\n      <th>2</th>\n      <td>dearr</td>\n      <td>97</td>\n      <td>silchar</td>\n    </tr>\n    <tr>\n      <th>3</th>\n      <td>manun</td>\n      <td>96</td>\n      <td>NITS</td>\n    </tr>\n  </tbody>\n</table>\n</div>"
          },
          "metadata": {}
        }
      ]
    },
    {
      "cell_type": "code",
      "source": "# to describe the df",
      "metadata": {},
      "execution_count": null,
      "outputs": []
    },
    {
      "cell_type": "code",
      "source": "df.describe()",
      "metadata": {
        "trusted": true
      },
      "execution_count": 11,
      "outputs": [
        {
          "execution_count": 11,
          "output_type": "execute_result",
          "data": {
            "text/plain": "         name marks    city\ncount       4     4       4\nunique      4     4       4\ntop     mridu    99  rangia\nfreq        1     1       1",
            "text/html": "<div>\n<style scoped>\n    .dataframe tbody tr th:only-of-type {\n        vertical-align: middle;\n    }\n\n    .dataframe tbody tr th {\n        vertical-align: top;\n    }\n\n    .dataframe thead th {\n        text-align: right;\n    }\n</style>\n<table border=\"1\" class=\"dataframe\">\n  <thead>\n    <tr style=\"text-align: right;\">\n      <th></th>\n      <th>name</th>\n      <th>marks</th>\n      <th>city</th>\n    </tr>\n  </thead>\n  <tbody>\n    <tr>\n      <th>count</th>\n      <td>4</td>\n      <td>4</td>\n      <td>4</td>\n    </tr>\n    <tr>\n      <th>unique</th>\n      <td>4</td>\n      <td>4</td>\n      <td>4</td>\n    </tr>\n    <tr>\n      <th>top</th>\n      <td>mridu</td>\n      <td>99</td>\n      <td>rangia</td>\n    </tr>\n    <tr>\n      <th>freq</th>\n      <td>1</td>\n      <td>1</td>\n      <td>1</td>\n    </tr>\n  </tbody>\n</table>\n</div>"
          },
          "metadata": {}
        }
      ]
    },
    {
      "cell_type": "code",
      "source": "",
      "metadata": {},
      "execution_count": null,
      "outputs": []
    },
    {
      "cell_type": "code",
      "source": "# herry=pd.read_csv('herry.csv')          to retrive all the data from spreadsheet",
      "metadata": {
        "trusted": true
      },
      "execution_count": 14,
      "outputs": []
    },
    {
      "cell_type": "code",
      "source": "ser=pd.Series(np.random.rand(34))",
      "metadata": {
        "trusted": true
      },
      "execution_count": 16,
      "outputs": []
    },
    {
      "cell_type": "code",
      "source": "ser",
      "metadata": {
        "trusted": true
      },
      "execution_count": 17,
      "outputs": [
        {
          "execution_count": 17,
          "output_type": "execute_result",
          "data": {
            "text/plain": "0     0.926403\n1     0.777456\n2     0.638508\n3     0.960661\n4     0.537964\n5     0.473352\n6     0.245530\n7     0.021267\n8     0.302715\n9     0.112483\n10    0.716623\n11    0.745625\n12    0.029941\n13    0.593511\n14    0.771500\n15    0.282226\n16    0.564615\n17    0.423051\n18    0.382749\n19    0.446018\n20    0.489393\n21    0.728676\n22    0.661183\n23    0.138970\n24    0.275494\n25    0.059032\n26    0.193705\n27    0.057428\n28    0.005780\n29    0.564819\n30    0.895229\n31    0.301510\n32    0.957679\n33    0.799436\ndtype: float64"
          },
          "metadata": {}
        }
      ]
    },
    {
      "cell_type": "code",
      "source": "type(ser)",
      "metadata": {
        "trusted": true
      },
      "execution_count": 18,
      "outputs": [
        {
          "execution_count": 18,
          "output_type": "execute_result",
          "data": {
            "text/plain": "pandas.core.series.Series"
          },
          "metadata": {}
        }
      ]
    },
    {
      "cell_type": "code",
      "source": "newdf=pd.DataFrame(np.random.rand(334,5),index=np.arange(334))",
      "metadata": {
        "trusted": true
      },
      "execution_count": 19,
      "outputs": []
    },
    {
      "cell_type": "code",
      "source": "newdf",
      "metadata": {
        "trusted": true
      },
      "execution_count": 20,
      "outputs": [
        {
          "execution_count": 20,
          "output_type": "execute_result",
          "data": {
            "text/plain": "            0         1         2         3         4\n0    0.680507  0.258127  0.187282  0.250236  0.207015\n1    0.435067  0.528802  0.085904  0.168113  0.623625\n2    0.181764  0.711116  0.601514  0.506261  0.206338\n3    0.865623  0.588565  0.822000  0.686083  0.891896\n4    0.806405  0.305793  0.308766  0.670454  0.453500\n..        ...       ...       ...       ...       ...\n329  0.410651  0.936600  0.029012  0.783175  0.564175\n330  0.096585  0.353848  0.024271  0.774633  0.437830\n331  0.815668  0.446678  0.252176  0.527096  0.616362\n332  0.281216  0.512183  0.852586  0.454990  0.814318\n333  0.991091  0.531339  0.280561  0.848190  0.615016\n\n[334 rows x 5 columns]",
            "text/html": "<div>\n<style scoped>\n    .dataframe tbody tr th:only-of-type {\n        vertical-align: middle;\n    }\n\n    .dataframe tbody tr th {\n        vertical-align: top;\n    }\n\n    .dataframe thead th {\n        text-align: right;\n    }\n</style>\n<table border=\"1\" class=\"dataframe\">\n  <thead>\n    <tr style=\"text-align: right;\">\n      <th></th>\n      <th>0</th>\n      <th>1</th>\n      <th>2</th>\n      <th>3</th>\n      <th>4</th>\n    </tr>\n  </thead>\n  <tbody>\n    <tr>\n      <th>0</th>\n      <td>0.680507</td>\n      <td>0.258127</td>\n      <td>0.187282</td>\n      <td>0.250236</td>\n      <td>0.207015</td>\n    </tr>\n    <tr>\n      <th>1</th>\n      <td>0.435067</td>\n      <td>0.528802</td>\n      <td>0.085904</td>\n      <td>0.168113</td>\n      <td>0.623625</td>\n    </tr>\n    <tr>\n      <th>2</th>\n      <td>0.181764</td>\n      <td>0.711116</td>\n      <td>0.601514</td>\n      <td>0.506261</td>\n      <td>0.206338</td>\n    </tr>\n    <tr>\n      <th>3</th>\n      <td>0.865623</td>\n      <td>0.588565</td>\n      <td>0.822000</td>\n      <td>0.686083</td>\n      <td>0.891896</td>\n    </tr>\n    <tr>\n      <th>4</th>\n      <td>0.806405</td>\n      <td>0.305793</td>\n      <td>0.308766</td>\n      <td>0.670454</td>\n      <td>0.453500</td>\n    </tr>\n    <tr>\n      <th>...</th>\n      <td>...</td>\n      <td>...</td>\n      <td>...</td>\n      <td>...</td>\n      <td>...</td>\n    </tr>\n    <tr>\n      <th>329</th>\n      <td>0.410651</td>\n      <td>0.936600</td>\n      <td>0.029012</td>\n      <td>0.783175</td>\n      <td>0.564175</td>\n    </tr>\n    <tr>\n      <th>330</th>\n      <td>0.096585</td>\n      <td>0.353848</td>\n      <td>0.024271</td>\n      <td>0.774633</td>\n      <td>0.437830</td>\n    </tr>\n    <tr>\n      <th>331</th>\n      <td>0.815668</td>\n      <td>0.446678</td>\n      <td>0.252176</td>\n      <td>0.527096</td>\n      <td>0.616362</td>\n    </tr>\n    <tr>\n      <th>332</th>\n      <td>0.281216</td>\n      <td>0.512183</td>\n      <td>0.852586</td>\n      <td>0.454990</td>\n      <td>0.814318</td>\n    </tr>\n    <tr>\n      <th>333</th>\n      <td>0.991091</td>\n      <td>0.531339</td>\n      <td>0.280561</td>\n      <td>0.848190</td>\n      <td>0.615016</td>\n    </tr>\n  </tbody>\n</table>\n<p>334 rows × 5 columns</p>\n</div>"
          },
          "metadata": {}
        }
      ]
    },
    {
      "cell_type": "code",
      "source": "newdf.head()",
      "metadata": {
        "trusted": true
      },
      "execution_count": 21,
      "outputs": [
        {
          "execution_count": 21,
          "output_type": "execute_result",
          "data": {
            "text/plain": "          0         1         2         3         4\n0  0.680507  0.258127  0.187282  0.250236  0.207015\n1  0.435067  0.528802  0.085904  0.168113  0.623625\n2  0.181764  0.711116  0.601514  0.506261  0.206338\n3  0.865623  0.588565  0.822000  0.686083  0.891896\n4  0.806405  0.305793  0.308766  0.670454  0.453500",
            "text/html": "<div>\n<style scoped>\n    .dataframe tbody tr th:only-of-type {\n        vertical-align: middle;\n    }\n\n    .dataframe tbody tr th {\n        vertical-align: top;\n    }\n\n    .dataframe thead th {\n        text-align: right;\n    }\n</style>\n<table border=\"1\" class=\"dataframe\">\n  <thead>\n    <tr style=\"text-align: right;\">\n      <th></th>\n      <th>0</th>\n      <th>1</th>\n      <th>2</th>\n      <th>3</th>\n      <th>4</th>\n    </tr>\n  </thead>\n  <tbody>\n    <tr>\n      <th>0</th>\n      <td>0.680507</td>\n      <td>0.258127</td>\n      <td>0.187282</td>\n      <td>0.250236</td>\n      <td>0.207015</td>\n    </tr>\n    <tr>\n      <th>1</th>\n      <td>0.435067</td>\n      <td>0.528802</td>\n      <td>0.085904</td>\n      <td>0.168113</td>\n      <td>0.623625</td>\n    </tr>\n    <tr>\n      <th>2</th>\n      <td>0.181764</td>\n      <td>0.711116</td>\n      <td>0.601514</td>\n      <td>0.506261</td>\n      <td>0.206338</td>\n    </tr>\n    <tr>\n      <th>3</th>\n      <td>0.865623</td>\n      <td>0.588565</td>\n      <td>0.822000</td>\n      <td>0.686083</td>\n      <td>0.891896</td>\n    </tr>\n    <tr>\n      <th>4</th>\n      <td>0.806405</td>\n      <td>0.305793</td>\n      <td>0.308766</td>\n      <td>0.670454</td>\n      <td>0.453500</td>\n    </tr>\n  </tbody>\n</table>\n</div>"
          },
          "metadata": {}
        }
      ]
    },
    {
      "cell_type": "code",
      "source": "type(newdf)",
      "metadata": {
        "trusted": true
      },
      "execution_count": 22,
      "outputs": [
        {
          "execution_count": 22,
          "output_type": "execute_result",
          "data": {
            "text/plain": "pandas.core.frame.DataFrame"
          },
          "metadata": {}
        }
      ]
    },
    {
      "cell_type": "code",
      "source": "newdf.describe()",
      "metadata": {
        "trusted": true
      },
      "execution_count": 23,
      "outputs": [
        {
          "execution_count": 23,
          "output_type": "execute_result",
          "data": {
            "text/plain": "                0           1           2           3           4\ncount  334.000000  334.000000  334.000000  334.000000  334.000000\nmean     0.499254    0.492171    0.495888    0.494266    0.506842\nstd      0.278315    0.291567    0.289674    0.280697    0.303042\nmin      0.008524    0.004795    0.000738    0.000867    0.006424\n25%      0.256813    0.239129    0.232291    0.270452    0.249680\n50%      0.499179    0.479014    0.494788    0.492643    0.482855\n75%      0.737806    0.751204    0.758449    0.715594    0.775041\nmax      0.995005    0.999681    0.994062    0.997211    0.999837",
            "text/html": "<div>\n<style scoped>\n    .dataframe tbody tr th:only-of-type {\n        vertical-align: middle;\n    }\n\n    .dataframe tbody tr th {\n        vertical-align: top;\n    }\n\n    .dataframe thead th {\n        text-align: right;\n    }\n</style>\n<table border=\"1\" class=\"dataframe\">\n  <thead>\n    <tr style=\"text-align: right;\">\n      <th></th>\n      <th>0</th>\n      <th>1</th>\n      <th>2</th>\n      <th>3</th>\n      <th>4</th>\n    </tr>\n  </thead>\n  <tbody>\n    <tr>\n      <th>count</th>\n      <td>334.000000</td>\n      <td>334.000000</td>\n      <td>334.000000</td>\n      <td>334.000000</td>\n      <td>334.000000</td>\n    </tr>\n    <tr>\n      <th>mean</th>\n      <td>0.499254</td>\n      <td>0.492171</td>\n      <td>0.495888</td>\n      <td>0.494266</td>\n      <td>0.506842</td>\n    </tr>\n    <tr>\n      <th>std</th>\n      <td>0.278315</td>\n      <td>0.291567</td>\n      <td>0.289674</td>\n      <td>0.280697</td>\n      <td>0.303042</td>\n    </tr>\n    <tr>\n      <th>min</th>\n      <td>0.008524</td>\n      <td>0.004795</td>\n      <td>0.000738</td>\n      <td>0.000867</td>\n      <td>0.006424</td>\n    </tr>\n    <tr>\n      <th>25%</th>\n      <td>0.256813</td>\n      <td>0.239129</td>\n      <td>0.232291</td>\n      <td>0.270452</td>\n      <td>0.249680</td>\n    </tr>\n    <tr>\n      <th>50%</th>\n      <td>0.499179</td>\n      <td>0.479014</td>\n      <td>0.494788</td>\n      <td>0.492643</td>\n      <td>0.482855</td>\n    </tr>\n    <tr>\n      <th>75%</th>\n      <td>0.737806</td>\n      <td>0.751204</td>\n      <td>0.758449</td>\n      <td>0.715594</td>\n      <td>0.775041</td>\n    </tr>\n    <tr>\n      <th>max</th>\n      <td>0.995005</td>\n      <td>0.999681</td>\n      <td>0.994062</td>\n      <td>0.997211</td>\n      <td>0.999837</td>\n    </tr>\n  </tbody>\n</table>\n</div>"
          },
          "metadata": {}
        }
      ]
    },
    {
      "cell_type": "code",
      "source": "newdf.dtypes",
      "metadata": {
        "trusted": true
      },
      "execution_count": 24,
      "outputs": [
        {
          "execution_count": 24,
          "output_type": "execute_result",
          "data": {
            "text/plain": "0    float64\n1    float64\n2    float64\n3    float64\n4    float64\ndtype: object"
          },
          "metadata": {}
        }
      ]
    },
    {
      "cell_type": "code",
      "source": "newdf.index",
      "metadata": {
        "trusted": true
      },
      "execution_count": 25,
      "outputs": [
        {
          "execution_count": 25,
          "output_type": "execute_result",
          "data": {
            "text/plain": "Int64Index([  0,   1,   2,   3,   4,   5,   6,   7,   8,   9,\n            ...\n            324, 325, 326, 327, 328, 329, 330, 331, 332, 333],\n           dtype='int64', length=334)"
          },
          "metadata": {}
        }
      ]
    },
    {
      "cell_type": "code",
      "source": "newdf.columns",
      "metadata": {
        "trusted": true
      },
      "execution_count": 27,
      "outputs": [
        {
          "execution_count": 27,
          "output_type": "execute_result",
          "data": {
            "text/plain": "RangeIndex(start=0, stop=5, step=1)"
          },
          "metadata": {}
        }
      ]
    },
    {
      "cell_type": "code",
      "source": "newdf.T",
      "metadata": {
        "trusted": true
      },
      "execution_count": 28,
      "outputs": [
        {
          "execution_count": 28,
          "output_type": "execute_result",
          "data": {
            "text/plain": "        0         1         2         3         4         5         6    \\\n0  0.680507  0.435067  0.181764  0.865623  0.806405  0.347997  0.165983   \n1  0.258127  0.528802  0.711116  0.588565  0.305793  0.509697  0.465270   \n2  0.187282  0.085904  0.601514  0.822000  0.308766  0.135016  0.586083   \n3  0.250236  0.168113  0.506261  0.686083  0.670454  0.883822  0.891942   \n4  0.207015  0.623625  0.206338  0.891896  0.453500  0.010077  0.391169   \n\n        7         8         9    ...       324       325       326       327  \\\n0  0.251074  0.777247  0.597084  ...  0.233605  0.299015  0.380397  0.220118   \n1  0.110410  0.182549  0.370432  ...  0.632985  0.650871  0.226669  0.722069   \n2  0.238387  0.513686  0.174373  ...  0.631261  0.851080  0.846532  0.859136   \n3  0.506831  0.966126  0.729948  ...  0.843270  0.215476  0.069164  0.366509   \n4  0.035528  0.919513  0.322117  ...  0.462100  0.618278  0.329585  0.216925   \n\n        328       329       330       331       332       333  \n0  0.148066  0.410651  0.096585  0.815668  0.281216  0.991091  \n1  0.312372  0.936600  0.353848  0.446678  0.512183  0.531339  \n2  0.911907  0.029012  0.024271  0.252176  0.852586  0.280561  \n3  0.641002  0.783175  0.774633  0.527096  0.454990  0.848190  \n4  0.343645  0.564175  0.437830  0.616362  0.814318  0.615016  \n\n[5 rows x 334 columns]",
            "text/html": "<div>\n<style scoped>\n    .dataframe tbody tr th:only-of-type {\n        vertical-align: middle;\n    }\n\n    .dataframe tbody tr th {\n        vertical-align: top;\n    }\n\n    .dataframe thead th {\n        text-align: right;\n    }\n</style>\n<table border=\"1\" class=\"dataframe\">\n  <thead>\n    <tr style=\"text-align: right;\">\n      <th></th>\n      <th>0</th>\n      <th>1</th>\n      <th>2</th>\n      <th>3</th>\n      <th>4</th>\n      <th>5</th>\n      <th>6</th>\n      <th>7</th>\n      <th>8</th>\n      <th>9</th>\n      <th>...</th>\n      <th>324</th>\n      <th>325</th>\n      <th>326</th>\n      <th>327</th>\n      <th>328</th>\n      <th>329</th>\n      <th>330</th>\n      <th>331</th>\n      <th>332</th>\n      <th>333</th>\n    </tr>\n  </thead>\n  <tbody>\n    <tr>\n      <th>0</th>\n      <td>0.680507</td>\n      <td>0.435067</td>\n      <td>0.181764</td>\n      <td>0.865623</td>\n      <td>0.806405</td>\n      <td>0.347997</td>\n      <td>0.165983</td>\n      <td>0.251074</td>\n      <td>0.777247</td>\n      <td>0.597084</td>\n      <td>...</td>\n      <td>0.233605</td>\n      <td>0.299015</td>\n      <td>0.380397</td>\n      <td>0.220118</td>\n      <td>0.148066</td>\n      <td>0.410651</td>\n      <td>0.096585</td>\n      <td>0.815668</td>\n      <td>0.281216</td>\n      <td>0.991091</td>\n    </tr>\n    <tr>\n      <th>1</th>\n      <td>0.258127</td>\n      <td>0.528802</td>\n      <td>0.711116</td>\n      <td>0.588565</td>\n      <td>0.305793</td>\n      <td>0.509697</td>\n      <td>0.465270</td>\n      <td>0.110410</td>\n      <td>0.182549</td>\n      <td>0.370432</td>\n      <td>...</td>\n      <td>0.632985</td>\n      <td>0.650871</td>\n      <td>0.226669</td>\n      <td>0.722069</td>\n      <td>0.312372</td>\n      <td>0.936600</td>\n      <td>0.353848</td>\n      <td>0.446678</td>\n      <td>0.512183</td>\n      <td>0.531339</td>\n    </tr>\n    <tr>\n      <th>2</th>\n      <td>0.187282</td>\n      <td>0.085904</td>\n      <td>0.601514</td>\n      <td>0.822000</td>\n      <td>0.308766</td>\n      <td>0.135016</td>\n      <td>0.586083</td>\n      <td>0.238387</td>\n      <td>0.513686</td>\n      <td>0.174373</td>\n      <td>...</td>\n      <td>0.631261</td>\n      <td>0.851080</td>\n      <td>0.846532</td>\n      <td>0.859136</td>\n      <td>0.911907</td>\n      <td>0.029012</td>\n      <td>0.024271</td>\n      <td>0.252176</td>\n      <td>0.852586</td>\n      <td>0.280561</td>\n    </tr>\n    <tr>\n      <th>3</th>\n      <td>0.250236</td>\n      <td>0.168113</td>\n      <td>0.506261</td>\n      <td>0.686083</td>\n      <td>0.670454</td>\n      <td>0.883822</td>\n      <td>0.891942</td>\n      <td>0.506831</td>\n      <td>0.966126</td>\n      <td>0.729948</td>\n      <td>...</td>\n      <td>0.843270</td>\n      <td>0.215476</td>\n      <td>0.069164</td>\n      <td>0.366509</td>\n      <td>0.641002</td>\n      <td>0.783175</td>\n      <td>0.774633</td>\n      <td>0.527096</td>\n      <td>0.454990</td>\n      <td>0.848190</td>\n    </tr>\n    <tr>\n      <th>4</th>\n      <td>0.207015</td>\n      <td>0.623625</td>\n      <td>0.206338</td>\n      <td>0.891896</td>\n      <td>0.453500</td>\n      <td>0.010077</td>\n      <td>0.391169</td>\n      <td>0.035528</td>\n      <td>0.919513</td>\n      <td>0.322117</td>\n      <td>...</td>\n      <td>0.462100</td>\n      <td>0.618278</td>\n      <td>0.329585</td>\n      <td>0.216925</td>\n      <td>0.343645</td>\n      <td>0.564175</td>\n      <td>0.437830</td>\n      <td>0.616362</td>\n      <td>0.814318</td>\n      <td>0.615016</td>\n    </tr>\n  </tbody>\n</table>\n<p>5 rows × 334 columns</p>\n</div>"
          },
          "metadata": {}
        }
      ]
    },
    {
      "cell_type": "code",
      "source": "newdf.head()",
      "metadata": {
        "trusted": true
      },
      "execution_count": 29,
      "outputs": [
        {
          "execution_count": 29,
          "output_type": "execute_result",
          "data": {
            "text/plain": "          0         1         2         3         4\n0  0.680507  0.258127  0.187282  0.250236  0.207015\n1  0.435067  0.528802  0.085904  0.168113  0.623625\n2  0.181764  0.711116  0.601514  0.506261  0.206338\n3  0.865623  0.588565  0.822000  0.686083  0.891896\n4  0.806405  0.305793  0.308766  0.670454  0.453500",
            "text/html": "<div>\n<style scoped>\n    .dataframe tbody tr th:only-of-type {\n        vertical-align: middle;\n    }\n\n    .dataframe tbody tr th {\n        vertical-align: top;\n    }\n\n    .dataframe thead th {\n        text-align: right;\n    }\n</style>\n<table border=\"1\" class=\"dataframe\">\n  <thead>\n    <tr style=\"text-align: right;\">\n      <th></th>\n      <th>0</th>\n      <th>1</th>\n      <th>2</th>\n      <th>3</th>\n      <th>4</th>\n    </tr>\n  </thead>\n  <tbody>\n    <tr>\n      <th>0</th>\n      <td>0.680507</td>\n      <td>0.258127</td>\n      <td>0.187282</td>\n      <td>0.250236</td>\n      <td>0.207015</td>\n    </tr>\n    <tr>\n      <th>1</th>\n      <td>0.435067</td>\n      <td>0.528802</td>\n      <td>0.085904</td>\n      <td>0.168113</td>\n      <td>0.623625</td>\n    </tr>\n    <tr>\n      <th>2</th>\n      <td>0.181764</td>\n      <td>0.711116</td>\n      <td>0.601514</td>\n      <td>0.506261</td>\n      <td>0.206338</td>\n    </tr>\n    <tr>\n      <th>3</th>\n      <td>0.865623</td>\n      <td>0.588565</td>\n      <td>0.822000</td>\n      <td>0.686083</td>\n      <td>0.891896</td>\n    </tr>\n    <tr>\n      <th>4</th>\n      <td>0.806405</td>\n      <td>0.305793</td>\n      <td>0.308766</td>\n      <td>0.670454</td>\n      <td>0.453500</td>\n    </tr>\n  </tbody>\n</table>\n</div>"
          },
          "metadata": {}
        }
      ]
    },
    {
      "cell_type": "code",
      "source": "newdf.sort_index(axis=0,ascending=False)",
      "metadata": {
        "trusted": true
      },
      "execution_count": 31,
      "outputs": [
        {
          "execution_count": 31,
          "output_type": "execute_result",
          "data": {
            "text/plain": "            0         1         2         3         4\n333  0.991091  0.531339  0.280561  0.848190  0.615016\n332  0.281216  0.512183  0.852586  0.454990  0.814318\n331  0.815668  0.446678  0.252176  0.527096  0.616362\n330  0.096585  0.353848  0.024271  0.774633  0.437830\n329  0.410651  0.936600  0.029012  0.783175  0.564175\n..        ...       ...       ...       ...       ...\n4    0.806405  0.305793  0.308766  0.670454  0.453500\n3    0.865623  0.588565  0.822000  0.686083  0.891896\n2    0.181764  0.711116  0.601514  0.506261  0.206338\n1    0.435067  0.528802  0.085904  0.168113  0.623625\n0    0.680507  0.258127  0.187282  0.250236  0.207015\n\n[334 rows x 5 columns]",
            "text/html": "<div>\n<style scoped>\n    .dataframe tbody tr th:only-of-type {\n        vertical-align: middle;\n    }\n\n    .dataframe tbody tr th {\n        vertical-align: top;\n    }\n\n    .dataframe thead th {\n        text-align: right;\n    }\n</style>\n<table border=\"1\" class=\"dataframe\">\n  <thead>\n    <tr style=\"text-align: right;\">\n      <th></th>\n      <th>0</th>\n      <th>1</th>\n      <th>2</th>\n      <th>3</th>\n      <th>4</th>\n    </tr>\n  </thead>\n  <tbody>\n    <tr>\n      <th>333</th>\n      <td>0.991091</td>\n      <td>0.531339</td>\n      <td>0.280561</td>\n      <td>0.848190</td>\n      <td>0.615016</td>\n    </tr>\n    <tr>\n      <th>332</th>\n      <td>0.281216</td>\n      <td>0.512183</td>\n      <td>0.852586</td>\n      <td>0.454990</td>\n      <td>0.814318</td>\n    </tr>\n    <tr>\n      <th>331</th>\n      <td>0.815668</td>\n      <td>0.446678</td>\n      <td>0.252176</td>\n      <td>0.527096</td>\n      <td>0.616362</td>\n    </tr>\n    <tr>\n      <th>330</th>\n      <td>0.096585</td>\n      <td>0.353848</td>\n      <td>0.024271</td>\n      <td>0.774633</td>\n      <td>0.437830</td>\n    </tr>\n    <tr>\n      <th>329</th>\n      <td>0.410651</td>\n      <td>0.936600</td>\n      <td>0.029012</td>\n      <td>0.783175</td>\n      <td>0.564175</td>\n    </tr>\n    <tr>\n      <th>...</th>\n      <td>...</td>\n      <td>...</td>\n      <td>...</td>\n      <td>...</td>\n      <td>...</td>\n    </tr>\n    <tr>\n      <th>4</th>\n      <td>0.806405</td>\n      <td>0.305793</td>\n      <td>0.308766</td>\n      <td>0.670454</td>\n      <td>0.453500</td>\n    </tr>\n    <tr>\n      <th>3</th>\n      <td>0.865623</td>\n      <td>0.588565</td>\n      <td>0.822000</td>\n      <td>0.686083</td>\n      <td>0.891896</td>\n    </tr>\n    <tr>\n      <th>2</th>\n      <td>0.181764</td>\n      <td>0.711116</td>\n      <td>0.601514</td>\n      <td>0.506261</td>\n      <td>0.206338</td>\n    </tr>\n    <tr>\n      <th>1</th>\n      <td>0.435067</td>\n      <td>0.528802</td>\n      <td>0.085904</td>\n      <td>0.168113</td>\n      <td>0.623625</td>\n    </tr>\n    <tr>\n      <th>0</th>\n      <td>0.680507</td>\n      <td>0.258127</td>\n      <td>0.187282</td>\n      <td>0.250236</td>\n      <td>0.207015</td>\n    </tr>\n  </tbody>\n</table>\n<p>334 rows × 5 columns</p>\n</div>"
          },
          "metadata": {}
        }
      ]
    },
    {
      "cell_type": "code",
      "source": "newdf.sort_index(axis=1,ascending=False)",
      "metadata": {
        "trusted": true
      },
      "execution_count": 32,
      "outputs": [
        {
          "execution_count": 32,
          "output_type": "execute_result",
          "data": {
            "text/plain": "            4         3         2         1         0\n0    0.207015  0.250236  0.187282  0.258127  0.680507\n1    0.623625  0.168113  0.085904  0.528802  0.435067\n2    0.206338  0.506261  0.601514  0.711116  0.181764\n3    0.891896  0.686083  0.822000  0.588565  0.865623\n4    0.453500  0.670454  0.308766  0.305793  0.806405\n..        ...       ...       ...       ...       ...\n329  0.564175  0.783175  0.029012  0.936600  0.410651\n330  0.437830  0.774633  0.024271  0.353848  0.096585\n331  0.616362  0.527096  0.252176  0.446678  0.815668\n332  0.814318  0.454990  0.852586  0.512183  0.281216\n333  0.615016  0.848190  0.280561  0.531339  0.991091\n\n[334 rows x 5 columns]",
            "text/html": "<div>\n<style scoped>\n    .dataframe tbody tr th:only-of-type {\n        vertical-align: middle;\n    }\n\n    .dataframe tbody tr th {\n        vertical-align: top;\n    }\n\n    .dataframe thead th {\n        text-align: right;\n    }\n</style>\n<table border=\"1\" class=\"dataframe\">\n  <thead>\n    <tr style=\"text-align: right;\">\n      <th></th>\n      <th>4</th>\n      <th>3</th>\n      <th>2</th>\n      <th>1</th>\n      <th>0</th>\n    </tr>\n  </thead>\n  <tbody>\n    <tr>\n      <th>0</th>\n      <td>0.207015</td>\n      <td>0.250236</td>\n      <td>0.187282</td>\n      <td>0.258127</td>\n      <td>0.680507</td>\n    </tr>\n    <tr>\n      <th>1</th>\n      <td>0.623625</td>\n      <td>0.168113</td>\n      <td>0.085904</td>\n      <td>0.528802</td>\n      <td>0.435067</td>\n    </tr>\n    <tr>\n      <th>2</th>\n      <td>0.206338</td>\n      <td>0.506261</td>\n      <td>0.601514</td>\n      <td>0.711116</td>\n      <td>0.181764</td>\n    </tr>\n    <tr>\n      <th>3</th>\n      <td>0.891896</td>\n      <td>0.686083</td>\n      <td>0.822000</td>\n      <td>0.588565</td>\n      <td>0.865623</td>\n    </tr>\n    <tr>\n      <th>4</th>\n      <td>0.453500</td>\n      <td>0.670454</td>\n      <td>0.308766</td>\n      <td>0.305793</td>\n      <td>0.806405</td>\n    </tr>\n    <tr>\n      <th>...</th>\n      <td>...</td>\n      <td>...</td>\n      <td>...</td>\n      <td>...</td>\n      <td>...</td>\n    </tr>\n    <tr>\n      <th>329</th>\n      <td>0.564175</td>\n      <td>0.783175</td>\n      <td>0.029012</td>\n      <td>0.936600</td>\n      <td>0.410651</td>\n    </tr>\n    <tr>\n      <th>330</th>\n      <td>0.437830</td>\n      <td>0.774633</td>\n      <td>0.024271</td>\n      <td>0.353848</td>\n      <td>0.096585</td>\n    </tr>\n    <tr>\n      <th>331</th>\n      <td>0.616362</td>\n      <td>0.527096</td>\n      <td>0.252176</td>\n      <td>0.446678</td>\n      <td>0.815668</td>\n    </tr>\n    <tr>\n      <th>332</th>\n      <td>0.814318</td>\n      <td>0.454990</td>\n      <td>0.852586</td>\n      <td>0.512183</td>\n      <td>0.281216</td>\n    </tr>\n    <tr>\n      <th>333</th>\n      <td>0.615016</td>\n      <td>0.848190</td>\n      <td>0.280561</td>\n      <td>0.531339</td>\n      <td>0.991091</td>\n    </tr>\n  </tbody>\n</table>\n<p>334 rows × 5 columns</p>\n</div>"
          },
          "metadata": {}
        }
      ]
    },
    {
      "cell_type": "code",
      "source": "newdf.head()",
      "metadata": {
        "trusted": true
      },
      "execution_count": 33,
      "outputs": [
        {
          "execution_count": 33,
          "output_type": "execute_result",
          "data": {
            "text/plain": "          0         1         2         3         4\n0  0.680507  0.258127  0.187282  0.250236  0.207015\n1  0.435067  0.528802  0.085904  0.168113  0.623625\n2  0.181764  0.711116  0.601514  0.506261  0.206338\n3  0.865623  0.588565  0.822000  0.686083  0.891896\n4  0.806405  0.305793  0.308766  0.670454  0.453500",
            "text/html": "<div>\n<style scoped>\n    .dataframe tbody tr th:only-of-type {\n        vertical-align: middle;\n    }\n\n    .dataframe tbody tr th {\n        vertical-align: top;\n    }\n\n    .dataframe thead th {\n        text-align: right;\n    }\n</style>\n<table border=\"1\" class=\"dataframe\">\n  <thead>\n    <tr style=\"text-align: right;\">\n      <th></th>\n      <th>0</th>\n      <th>1</th>\n      <th>2</th>\n      <th>3</th>\n      <th>4</th>\n    </tr>\n  </thead>\n  <tbody>\n    <tr>\n      <th>0</th>\n      <td>0.680507</td>\n      <td>0.258127</td>\n      <td>0.187282</td>\n      <td>0.250236</td>\n      <td>0.207015</td>\n    </tr>\n    <tr>\n      <th>1</th>\n      <td>0.435067</td>\n      <td>0.528802</td>\n      <td>0.085904</td>\n      <td>0.168113</td>\n      <td>0.623625</td>\n    </tr>\n    <tr>\n      <th>2</th>\n      <td>0.181764</td>\n      <td>0.711116</td>\n      <td>0.601514</td>\n      <td>0.506261</td>\n      <td>0.206338</td>\n    </tr>\n    <tr>\n      <th>3</th>\n      <td>0.865623</td>\n      <td>0.588565</td>\n      <td>0.822000</td>\n      <td>0.686083</td>\n      <td>0.891896</td>\n    </tr>\n    <tr>\n      <th>4</th>\n      <td>0.806405</td>\n      <td>0.305793</td>\n      <td>0.308766</td>\n      <td>0.670454</td>\n      <td>0.453500</td>\n    </tr>\n  </tbody>\n</table>\n</div>"
          },
          "metadata": {}
        }
      ]
    },
    {
      "cell_type": "code",
      "source": "type(newdf[0])",
      "metadata": {
        "trusted": true
      },
      "execution_count": 34,
      "outputs": [
        {
          "execution_count": 34,
          "output_type": "execute_result",
          "data": {
            "text/plain": "pandas.core.series.Series"
          },
          "metadata": {}
        }
      ]
    },
    {
      "cell_type": "code",
      "source": "newdf2=newdf",
      "metadata": {
        "trusted": true
      },
      "execution_count": 35,
      "outputs": []
    },
    {
      "cell_type": "code",
      "source": "# newdf2 is a view of newdf ",
      "metadata": {},
      "execution_count": null,
      "outputs": []
    },
    {
      "cell_type": "code",
      "source": "newdf[0][0]=3454",
      "metadata": {
        "trusted": true
      },
      "execution_count": 36,
      "outputs": []
    },
    {
      "cell_type": "code",
      "source": "newdf.head()",
      "metadata": {
        "trusted": true
      },
      "execution_count": 37,
      "outputs": [
        {
          "execution_count": 37,
          "output_type": "execute_result",
          "data": {
            "text/plain": "             0         1         2         3         4\n0  3454.000000  0.258127  0.187282  0.250236  0.207015\n1     0.435067  0.528802  0.085904  0.168113  0.623625\n2     0.181764  0.711116  0.601514  0.506261  0.206338\n3     0.865623  0.588565  0.822000  0.686083  0.891896\n4     0.806405  0.305793  0.308766  0.670454  0.453500",
            "text/html": "<div>\n<style scoped>\n    .dataframe tbody tr th:only-of-type {\n        vertical-align: middle;\n    }\n\n    .dataframe tbody tr th {\n        vertical-align: top;\n    }\n\n    .dataframe thead th {\n        text-align: right;\n    }\n</style>\n<table border=\"1\" class=\"dataframe\">\n  <thead>\n    <tr style=\"text-align: right;\">\n      <th></th>\n      <th>0</th>\n      <th>1</th>\n      <th>2</th>\n      <th>3</th>\n      <th>4</th>\n    </tr>\n  </thead>\n  <tbody>\n    <tr>\n      <th>0</th>\n      <td>3454.000000</td>\n      <td>0.258127</td>\n      <td>0.187282</td>\n      <td>0.250236</td>\n      <td>0.207015</td>\n    </tr>\n    <tr>\n      <th>1</th>\n      <td>0.435067</td>\n      <td>0.528802</td>\n      <td>0.085904</td>\n      <td>0.168113</td>\n      <td>0.623625</td>\n    </tr>\n    <tr>\n      <th>2</th>\n      <td>0.181764</td>\n      <td>0.711116</td>\n      <td>0.601514</td>\n      <td>0.506261</td>\n      <td>0.206338</td>\n    </tr>\n    <tr>\n      <th>3</th>\n      <td>0.865623</td>\n      <td>0.588565</td>\n      <td>0.822000</td>\n      <td>0.686083</td>\n      <td>0.891896</td>\n    </tr>\n    <tr>\n      <th>4</th>\n      <td>0.806405</td>\n      <td>0.305793</td>\n      <td>0.308766</td>\n      <td>0.670454</td>\n      <td>0.453500</td>\n    </tr>\n  </tbody>\n</table>\n</div>"
          },
          "metadata": {}
        }
      ]
    },
    {
      "cell_type": "code",
      "source": "newdf2=newdf.copy()",
      "metadata": {
        "trusted": true
      },
      "execution_count": 38,
      "outputs": []
    },
    {
      "cell_type": "code",
      "source": "# now it a copy of newdf. without .copy its become a view",
      "metadata": {},
      "execution_count": null,
      "outputs": []
    },
    {
      "cell_type": "code",
      "source": "newdf2.head()",
      "metadata": {
        "trusted": true
      },
      "execution_count": 39,
      "outputs": [
        {
          "execution_count": 39,
          "output_type": "execute_result",
          "data": {
            "text/plain": "             0         1         2         3         4\n0  3454.000000  0.258127  0.187282  0.250236  0.207015\n1     0.435067  0.528802  0.085904  0.168113  0.623625\n2     0.181764  0.711116  0.601514  0.506261  0.206338\n3     0.865623  0.588565  0.822000  0.686083  0.891896\n4     0.806405  0.305793  0.308766  0.670454  0.453500",
            "text/html": "<div>\n<style scoped>\n    .dataframe tbody tr th:only-of-type {\n        vertical-align: middle;\n    }\n\n    .dataframe tbody tr th {\n        vertical-align: top;\n    }\n\n    .dataframe thead th {\n        text-align: right;\n    }\n</style>\n<table border=\"1\" class=\"dataframe\">\n  <thead>\n    <tr style=\"text-align: right;\">\n      <th></th>\n      <th>0</th>\n      <th>1</th>\n      <th>2</th>\n      <th>3</th>\n      <th>4</th>\n    </tr>\n  </thead>\n  <tbody>\n    <tr>\n      <th>0</th>\n      <td>3454.000000</td>\n      <td>0.258127</td>\n      <td>0.187282</td>\n      <td>0.250236</td>\n      <td>0.207015</td>\n    </tr>\n    <tr>\n      <th>1</th>\n      <td>0.435067</td>\n      <td>0.528802</td>\n      <td>0.085904</td>\n      <td>0.168113</td>\n      <td>0.623625</td>\n    </tr>\n    <tr>\n      <th>2</th>\n      <td>0.181764</td>\n      <td>0.711116</td>\n      <td>0.601514</td>\n      <td>0.506261</td>\n      <td>0.206338</td>\n    </tr>\n    <tr>\n      <th>3</th>\n      <td>0.865623</td>\n      <td>0.588565</td>\n      <td>0.822000</td>\n      <td>0.686083</td>\n      <td>0.891896</td>\n    </tr>\n    <tr>\n      <th>4</th>\n      <td>0.806405</td>\n      <td>0.305793</td>\n      <td>0.308766</td>\n      <td>0.670454</td>\n      <td>0.453500</td>\n    </tr>\n  </tbody>\n</table>\n</div>"
          },
          "metadata": {}
        }
      ]
    },
    {
      "cell_type": "code",
      "source": "newdf.loc[0,0]=654",
      "metadata": {
        "trusted": true
      },
      "execution_count": 40,
      "outputs": []
    },
    {
      "cell_type": "code",
      "source": "newdf.head(2)",
      "metadata": {
        "trusted": true
      },
      "execution_count": 41,
      "outputs": [
        {
          "execution_count": 41,
          "output_type": "execute_result",
          "data": {
            "text/plain": "            0         1         2         3         4\n0  654.000000  0.258127  0.187282  0.250236  0.207015\n1    0.435067  0.528802  0.085904  0.168113  0.623625",
            "text/html": "<div>\n<style scoped>\n    .dataframe tbody tr th:only-of-type {\n        vertical-align: middle;\n    }\n\n    .dataframe tbody tr th {\n        vertical-align: top;\n    }\n\n    .dataframe thead th {\n        text-align: right;\n    }\n</style>\n<table border=\"1\" class=\"dataframe\">\n  <thead>\n    <tr style=\"text-align: right;\">\n      <th></th>\n      <th>0</th>\n      <th>1</th>\n      <th>2</th>\n      <th>3</th>\n      <th>4</th>\n    </tr>\n  </thead>\n  <tbody>\n    <tr>\n      <th>0</th>\n      <td>654.000000</td>\n      <td>0.258127</td>\n      <td>0.187282</td>\n      <td>0.250236</td>\n      <td>0.207015</td>\n    </tr>\n    <tr>\n      <th>1</th>\n      <td>0.435067</td>\n      <td>0.528802</td>\n      <td>0.085904</td>\n      <td>0.168113</td>\n      <td>0.623625</td>\n    </tr>\n  </tbody>\n</table>\n</div>"
          },
          "metadata": {}
        }
      ]
    },
    {
      "cell_type": "code",
      "source": "newdf.columns=list(\"ABCDE\")",
      "metadata": {
        "trusted": true
      },
      "execution_count": 42,
      "outputs": []
    },
    {
      "cell_type": "code",
      "source": "newdf",
      "metadata": {
        "trusted": true
      },
      "execution_count": 43,
      "outputs": [
        {
          "execution_count": 43,
          "output_type": "execute_result",
          "data": {
            "text/plain": "              A         B         C         D         E\n0    654.000000  0.258127  0.187282  0.250236  0.207015\n1      0.435067  0.528802  0.085904  0.168113  0.623625\n2      0.181764  0.711116  0.601514  0.506261  0.206338\n3      0.865623  0.588565  0.822000  0.686083  0.891896\n4      0.806405  0.305793  0.308766  0.670454  0.453500\n..          ...       ...       ...       ...       ...\n329    0.410651  0.936600  0.029012  0.783175  0.564175\n330    0.096585  0.353848  0.024271  0.774633  0.437830\n331    0.815668  0.446678  0.252176  0.527096  0.616362\n332    0.281216  0.512183  0.852586  0.454990  0.814318\n333    0.991091  0.531339  0.280561  0.848190  0.615016\n\n[334 rows x 5 columns]",
            "text/html": "<div>\n<style scoped>\n    .dataframe tbody tr th:only-of-type {\n        vertical-align: middle;\n    }\n\n    .dataframe tbody tr th {\n        vertical-align: top;\n    }\n\n    .dataframe thead th {\n        text-align: right;\n    }\n</style>\n<table border=\"1\" class=\"dataframe\">\n  <thead>\n    <tr style=\"text-align: right;\">\n      <th></th>\n      <th>A</th>\n      <th>B</th>\n      <th>C</th>\n      <th>D</th>\n      <th>E</th>\n    </tr>\n  </thead>\n  <tbody>\n    <tr>\n      <th>0</th>\n      <td>654.000000</td>\n      <td>0.258127</td>\n      <td>0.187282</td>\n      <td>0.250236</td>\n      <td>0.207015</td>\n    </tr>\n    <tr>\n      <th>1</th>\n      <td>0.435067</td>\n      <td>0.528802</td>\n      <td>0.085904</td>\n      <td>0.168113</td>\n      <td>0.623625</td>\n    </tr>\n    <tr>\n      <th>2</th>\n      <td>0.181764</td>\n      <td>0.711116</td>\n      <td>0.601514</td>\n      <td>0.506261</td>\n      <td>0.206338</td>\n    </tr>\n    <tr>\n      <th>3</th>\n      <td>0.865623</td>\n      <td>0.588565</td>\n      <td>0.822000</td>\n      <td>0.686083</td>\n      <td>0.891896</td>\n    </tr>\n    <tr>\n      <th>4</th>\n      <td>0.806405</td>\n      <td>0.305793</td>\n      <td>0.308766</td>\n      <td>0.670454</td>\n      <td>0.453500</td>\n    </tr>\n    <tr>\n      <th>...</th>\n      <td>...</td>\n      <td>...</td>\n      <td>...</td>\n      <td>...</td>\n      <td>...</td>\n    </tr>\n    <tr>\n      <th>329</th>\n      <td>0.410651</td>\n      <td>0.936600</td>\n      <td>0.029012</td>\n      <td>0.783175</td>\n      <td>0.564175</td>\n    </tr>\n    <tr>\n      <th>330</th>\n      <td>0.096585</td>\n      <td>0.353848</td>\n      <td>0.024271</td>\n      <td>0.774633</td>\n      <td>0.437830</td>\n    </tr>\n    <tr>\n      <th>331</th>\n      <td>0.815668</td>\n      <td>0.446678</td>\n      <td>0.252176</td>\n      <td>0.527096</td>\n      <td>0.616362</td>\n    </tr>\n    <tr>\n      <th>332</th>\n      <td>0.281216</td>\n      <td>0.512183</td>\n      <td>0.852586</td>\n      <td>0.454990</td>\n      <td>0.814318</td>\n    </tr>\n    <tr>\n      <th>333</th>\n      <td>0.991091</td>\n      <td>0.531339</td>\n      <td>0.280561</td>\n      <td>0.848190</td>\n      <td>0.615016</td>\n    </tr>\n  </tbody>\n</table>\n<p>334 rows × 5 columns</p>\n</div>"
          },
          "metadata": {}
        }
      ]
    },
    {
      "cell_type": "code",
      "source": "newdf.drop(\"A\",axis=1)",
      "metadata": {
        "trusted": true
      },
      "execution_count": 44,
      "outputs": [
        {
          "execution_count": 44,
          "output_type": "execute_result",
          "data": {
            "text/plain": "            B         C         D         E\n0    0.258127  0.187282  0.250236  0.207015\n1    0.528802  0.085904  0.168113  0.623625\n2    0.711116  0.601514  0.506261  0.206338\n3    0.588565  0.822000  0.686083  0.891896\n4    0.305793  0.308766  0.670454  0.453500\n..        ...       ...       ...       ...\n329  0.936600  0.029012  0.783175  0.564175\n330  0.353848  0.024271  0.774633  0.437830\n331  0.446678  0.252176  0.527096  0.616362\n332  0.512183  0.852586  0.454990  0.814318\n333  0.531339  0.280561  0.848190  0.615016\n\n[334 rows x 4 columns]",
            "text/html": "<div>\n<style scoped>\n    .dataframe tbody tr th:only-of-type {\n        vertical-align: middle;\n    }\n\n    .dataframe tbody tr th {\n        vertical-align: top;\n    }\n\n    .dataframe thead th {\n        text-align: right;\n    }\n</style>\n<table border=\"1\" class=\"dataframe\">\n  <thead>\n    <tr style=\"text-align: right;\">\n      <th></th>\n      <th>B</th>\n      <th>C</th>\n      <th>D</th>\n      <th>E</th>\n    </tr>\n  </thead>\n  <tbody>\n    <tr>\n      <th>0</th>\n      <td>0.258127</td>\n      <td>0.187282</td>\n      <td>0.250236</td>\n      <td>0.207015</td>\n    </tr>\n    <tr>\n      <th>1</th>\n      <td>0.528802</td>\n      <td>0.085904</td>\n      <td>0.168113</td>\n      <td>0.623625</td>\n    </tr>\n    <tr>\n      <th>2</th>\n      <td>0.711116</td>\n      <td>0.601514</td>\n      <td>0.506261</td>\n      <td>0.206338</td>\n    </tr>\n    <tr>\n      <th>3</th>\n      <td>0.588565</td>\n      <td>0.822000</td>\n      <td>0.686083</td>\n      <td>0.891896</td>\n    </tr>\n    <tr>\n      <th>4</th>\n      <td>0.305793</td>\n      <td>0.308766</td>\n      <td>0.670454</td>\n      <td>0.453500</td>\n    </tr>\n    <tr>\n      <th>...</th>\n      <td>...</td>\n      <td>...</td>\n      <td>...</td>\n      <td>...</td>\n    </tr>\n    <tr>\n      <th>329</th>\n      <td>0.936600</td>\n      <td>0.029012</td>\n      <td>0.783175</td>\n      <td>0.564175</td>\n    </tr>\n    <tr>\n      <th>330</th>\n      <td>0.353848</td>\n      <td>0.024271</td>\n      <td>0.774633</td>\n      <td>0.437830</td>\n    </tr>\n    <tr>\n      <th>331</th>\n      <td>0.446678</td>\n      <td>0.252176</td>\n      <td>0.527096</td>\n      <td>0.616362</td>\n    </tr>\n    <tr>\n      <th>332</th>\n      <td>0.512183</td>\n      <td>0.852586</td>\n      <td>0.454990</td>\n      <td>0.814318</td>\n    </tr>\n    <tr>\n      <th>333</th>\n      <td>0.531339</td>\n      <td>0.280561</td>\n      <td>0.848190</td>\n      <td>0.615016</td>\n    </tr>\n  </tbody>\n</table>\n<p>334 rows × 4 columns</p>\n</div>"
          },
          "metadata": {}
        }
      ]
    },
    {
      "cell_type": "code",
      "source": "newdf.loc[[1,2],['B','C']]",
      "metadata": {
        "trusted": true
      },
      "execution_count": 46,
      "outputs": [
        {
          "execution_count": 46,
          "output_type": "execute_result",
          "data": {
            "text/plain": "          B         C\n1  0.528802  0.085904\n2  0.711116  0.601514",
            "text/html": "<div>\n<style scoped>\n    .dataframe tbody tr th:only-of-type {\n        vertical-align: middle;\n    }\n\n    .dataframe tbody tr th {\n        vertical-align: top;\n    }\n\n    .dataframe thead th {\n        text-align: right;\n    }\n</style>\n<table border=\"1\" class=\"dataframe\">\n  <thead>\n    <tr style=\"text-align: right;\">\n      <th></th>\n      <th>B</th>\n      <th>C</th>\n    </tr>\n  </thead>\n  <tbody>\n    <tr>\n      <th>1</th>\n      <td>0.528802</td>\n      <td>0.085904</td>\n    </tr>\n    <tr>\n      <th>2</th>\n      <td>0.711116</td>\n      <td>0.601514</td>\n    </tr>\n  </tbody>\n</table>\n</div>"
          },
          "metadata": {}
        }
      ]
    },
    {
      "cell_type": "code",
      "source": "newdf.iloc[0,4]",
      "metadata": {
        "trusted": true
      },
      "execution_count": 47,
      "outputs": [
        {
          "execution_count": 47,
          "output_type": "execute_result",
          "data": {
            "text/plain": "0.207014642691969"
          },
          "metadata": {}
        }
      ]
    },
    {
      "cell_type": "code",
      "source": "newdf.head()\n",
      "metadata": {
        "trusted": true
      },
      "execution_count": 48,
      "outputs": [
        {
          "execution_count": 48,
          "output_type": "execute_result",
          "data": {
            "text/plain": "            A         B         C         D         E\n0  654.000000  0.258127  0.187282  0.250236  0.207015\n1    0.435067  0.528802  0.085904  0.168113  0.623625\n2    0.181764  0.711116  0.601514  0.506261  0.206338\n3    0.865623  0.588565  0.822000  0.686083  0.891896\n4    0.806405  0.305793  0.308766  0.670454  0.453500",
            "text/html": "<div>\n<style scoped>\n    .dataframe tbody tr th:only-of-type {\n        vertical-align: middle;\n    }\n\n    .dataframe tbody tr th {\n        vertical-align: top;\n    }\n\n    .dataframe thead th {\n        text-align: right;\n    }\n</style>\n<table border=\"1\" class=\"dataframe\">\n  <thead>\n    <tr style=\"text-align: right;\">\n      <th></th>\n      <th>A</th>\n      <th>B</th>\n      <th>C</th>\n      <th>D</th>\n      <th>E</th>\n    </tr>\n  </thead>\n  <tbody>\n    <tr>\n      <th>0</th>\n      <td>654.000000</td>\n      <td>0.258127</td>\n      <td>0.187282</td>\n      <td>0.250236</td>\n      <td>0.207015</td>\n    </tr>\n    <tr>\n      <th>1</th>\n      <td>0.435067</td>\n      <td>0.528802</td>\n      <td>0.085904</td>\n      <td>0.168113</td>\n      <td>0.623625</td>\n    </tr>\n    <tr>\n      <th>2</th>\n      <td>0.181764</td>\n      <td>0.711116</td>\n      <td>0.601514</td>\n      <td>0.506261</td>\n      <td>0.206338</td>\n    </tr>\n    <tr>\n      <th>3</th>\n      <td>0.865623</td>\n      <td>0.588565</td>\n      <td>0.822000</td>\n      <td>0.686083</td>\n      <td>0.891896</td>\n    </tr>\n    <tr>\n      <th>4</th>\n      <td>0.806405</td>\n      <td>0.305793</td>\n      <td>0.308766</td>\n      <td>0.670454</td>\n      <td>0.453500</td>\n    </tr>\n  </tbody>\n</table>\n</div>"
          },
          "metadata": {}
        }
      ]
    },
    {
      "cell_type": "code",
      "source": "newdf.drop(\"A\",axis=1)",
      "metadata": {
        "trusted": true
      },
      "execution_count": 57,
      "outputs": [
        {
          "execution_count": 57,
          "output_type": "execute_result",
          "data": {
            "text/plain": "            B         C         D         E\n0    0.258127  0.187282  0.250236  0.207015\n2    0.711116  0.601514  0.506261  0.206338\n3    0.588565  0.822000  0.686083  0.891896\n4    0.305793  0.308766  0.670454  0.453500\n6    0.465270  0.586083  0.891942  0.391169\n..        ...       ...       ...       ...\n329  0.936600  0.029012  0.783175  0.564175\n330  0.353848  0.024271  0.774633  0.437830\n331  0.446678  0.252176  0.527096  0.616362\n332  0.512183  0.852586  0.454990  0.814318\n333  0.531339  0.280561  0.848190  0.615016\n\n[332 rows x 4 columns]",
            "text/html": "<div>\n<style scoped>\n    .dataframe tbody tr th:only-of-type {\n        vertical-align: middle;\n    }\n\n    .dataframe tbody tr th {\n        vertical-align: top;\n    }\n\n    .dataframe thead th {\n        text-align: right;\n    }\n</style>\n<table border=\"1\" class=\"dataframe\">\n  <thead>\n    <tr style=\"text-align: right;\">\n      <th></th>\n      <th>B</th>\n      <th>C</th>\n      <th>D</th>\n      <th>E</th>\n    </tr>\n  </thead>\n  <tbody>\n    <tr>\n      <th>0</th>\n      <td>0.258127</td>\n      <td>0.187282</td>\n      <td>0.250236</td>\n      <td>0.207015</td>\n    </tr>\n    <tr>\n      <th>2</th>\n      <td>0.711116</td>\n      <td>0.601514</td>\n      <td>0.506261</td>\n      <td>0.206338</td>\n    </tr>\n    <tr>\n      <th>3</th>\n      <td>0.588565</td>\n      <td>0.822000</td>\n      <td>0.686083</td>\n      <td>0.891896</td>\n    </tr>\n    <tr>\n      <th>4</th>\n      <td>0.305793</td>\n      <td>0.308766</td>\n      <td>0.670454</td>\n      <td>0.453500</td>\n    </tr>\n    <tr>\n      <th>6</th>\n      <td>0.465270</td>\n      <td>0.586083</td>\n      <td>0.891942</td>\n      <td>0.391169</td>\n    </tr>\n    <tr>\n      <th>...</th>\n      <td>...</td>\n      <td>...</td>\n      <td>...</td>\n      <td>...</td>\n    </tr>\n    <tr>\n      <th>329</th>\n      <td>0.936600</td>\n      <td>0.029012</td>\n      <td>0.783175</td>\n      <td>0.564175</td>\n    </tr>\n    <tr>\n      <th>330</th>\n      <td>0.353848</td>\n      <td>0.024271</td>\n      <td>0.774633</td>\n      <td>0.437830</td>\n    </tr>\n    <tr>\n      <th>331</th>\n      <td>0.446678</td>\n      <td>0.252176</td>\n      <td>0.527096</td>\n      <td>0.616362</td>\n    </tr>\n    <tr>\n      <th>332</th>\n      <td>0.512183</td>\n      <td>0.852586</td>\n      <td>0.454990</td>\n      <td>0.814318</td>\n    </tr>\n    <tr>\n      <th>333</th>\n      <td>0.531339</td>\n      <td>0.280561</td>\n      <td>0.848190</td>\n      <td>0.615016</td>\n    </tr>\n  </tbody>\n</table>\n<p>332 rows × 4 columns</p>\n</div>"
          },
          "metadata": {}
        }
      ]
    },
    {
      "cell_type": "code",
      "source": "newdf.reset_index(drop=True,inplace=True)",
      "metadata": {
        "trusted": true
      },
      "execution_count": 58,
      "outputs": []
    },
    {
      "cell_type": "code",
      "source": "newdf.head(3)",
      "metadata": {
        "trusted": true
      },
      "execution_count": 59,
      "outputs": [
        {
          "execution_count": 59,
          "output_type": "execute_result",
          "data": {
            "text/plain": "            A         B         C         D         E\n0  654.000000  0.258127  0.187282  0.250236  0.207015\n1    0.181764  0.711116  0.601514  0.506261  0.206338\n2    0.865623  0.588565  0.822000  0.686083  0.891896",
            "text/html": "<div>\n<style scoped>\n    .dataframe tbody tr th:only-of-type {\n        vertical-align: middle;\n    }\n\n    .dataframe tbody tr th {\n        vertical-align: top;\n    }\n\n    .dataframe thead th {\n        text-align: right;\n    }\n</style>\n<table border=\"1\" class=\"dataframe\">\n  <thead>\n    <tr style=\"text-align: right;\">\n      <th></th>\n      <th>A</th>\n      <th>B</th>\n      <th>C</th>\n      <th>D</th>\n      <th>E</th>\n    </tr>\n  </thead>\n  <tbody>\n    <tr>\n      <th>0</th>\n      <td>654.000000</td>\n      <td>0.258127</td>\n      <td>0.187282</td>\n      <td>0.250236</td>\n      <td>0.207015</td>\n    </tr>\n    <tr>\n      <th>1</th>\n      <td>0.181764</td>\n      <td>0.711116</td>\n      <td>0.601514</td>\n      <td>0.506261</td>\n      <td>0.206338</td>\n    </tr>\n    <tr>\n      <th>2</th>\n      <td>0.865623</td>\n      <td>0.588565</td>\n      <td>0.822000</td>\n      <td>0.686083</td>\n      <td>0.891896</td>\n    </tr>\n  </tbody>\n</table>\n</div>"
          },
          "metadata": {}
        }
      ]
    },
    {
      "cell_type": "code",
      "source": "newdf['B'].isnull()",
      "metadata": {
        "trusted": true
      },
      "execution_count": 60,
      "outputs": [
        {
          "execution_count": 60,
          "output_type": "execute_result",
          "data": {
            "text/plain": "0      False\n1      False\n2      False\n3      False\n4      False\n       ...  \n327    False\n328    False\n329    False\n330    False\n331    False\nName: B, Length: 332, dtype: bool"
          },
          "metadata": {}
        }
      ]
    },
    {
      "cell_type": "code",
      "source": "newdf['B']=None",
      "metadata": {
        "trusted": true
      },
      "execution_count": 62,
      "outputs": []
    },
    {
      "cell_type": "code",
      "source": "newdf",
      "metadata": {
        "trusted": true
      },
      "execution_count": 63,
      "outputs": [
        {
          "execution_count": 63,
          "output_type": "execute_result",
          "data": {
            "text/plain": "              A     B         C         D         E\n0    654.000000  None  0.187282  0.250236  0.207015\n1      0.181764  None  0.601514  0.506261  0.206338\n2      0.865623  None  0.822000  0.686083  0.891896\n3      0.806405  None  0.308766  0.670454  0.453500\n4      0.165983  None  0.586083  0.891942  0.391169\n..          ...   ...       ...       ...       ...\n327    0.410651  None  0.029012  0.783175  0.564175\n328    0.096585  None  0.024271  0.774633  0.437830\n329    0.815668  None  0.252176  0.527096  0.616362\n330    0.281216  None  0.852586  0.454990  0.814318\n331    0.991091  None  0.280561  0.848190  0.615016\n\n[332 rows x 5 columns]",
            "text/html": "<div>\n<style scoped>\n    .dataframe tbody tr th:only-of-type {\n        vertical-align: middle;\n    }\n\n    .dataframe tbody tr th {\n        vertical-align: top;\n    }\n\n    .dataframe thead th {\n        text-align: right;\n    }\n</style>\n<table border=\"1\" class=\"dataframe\">\n  <thead>\n    <tr style=\"text-align: right;\">\n      <th></th>\n      <th>A</th>\n      <th>B</th>\n      <th>C</th>\n      <th>D</th>\n      <th>E</th>\n    </tr>\n  </thead>\n  <tbody>\n    <tr>\n      <th>0</th>\n      <td>654.000000</td>\n      <td>None</td>\n      <td>0.187282</td>\n      <td>0.250236</td>\n      <td>0.207015</td>\n    </tr>\n    <tr>\n      <th>1</th>\n      <td>0.181764</td>\n      <td>None</td>\n      <td>0.601514</td>\n      <td>0.506261</td>\n      <td>0.206338</td>\n    </tr>\n    <tr>\n      <th>2</th>\n      <td>0.865623</td>\n      <td>None</td>\n      <td>0.822000</td>\n      <td>0.686083</td>\n      <td>0.891896</td>\n    </tr>\n    <tr>\n      <th>3</th>\n      <td>0.806405</td>\n      <td>None</td>\n      <td>0.308766</td>\n      <td>0.670454</td>\n      <td>0.453500</td>\n    </tr>\n    <tr>\n      <th>4</th>\n      <td>0.165983</td>\n      <td>None</td>\n      <td>0.586083</td>\n      <td>0.891942</td>\n      <td>0.391169</td>\n    </tr>\n    <tr>\n      <th>...</th>\n      <td>...</td>\n      <td>...</td>\n      <td>...</td>\n      <td>...</td>\n      <td>...</td>\n    </tr>\n    <tr>\n      <th>327</th>\n      <td>0.410651</td>\n      <td>None</td>\n      <td>0.029012</td>\n      <td>0.783175</td>\n      <td>0.564175</td>\n    </tr>\n    <tr>\n      <th>328</th>\n      <td>0.096585</td>\n      <td>None</td>\n      <td>0.024271</td>\n      <td>0.774633</td>\n      <td>0.437830</td>\n    </tr>\n    <tr>\n      <th>329</th>\n      <td>0.815668</td>\n      <td>None</td>\n      <td>0.252176</td>\n      <td>0.527096</td>\n      <td>0.616362</td>\n    </tr>\n    <tr>\n      <th>330</th>\n      <td>0.281216</td>\n      <td>None</td>\n      <td>0.852586</td>\n      <td>0.454990</td>\n      <td>0.814318</td>\n    </tr>\n    <tr>\n      <th>331</th>\n      <td>0.991091</td>\n      <td>None</td>\n      <td>0.280561</td>\n      <td>0.848190</td>\n      <td>0.615016</td>\n    </tr>\n  </tbody>\n</table>\n<p>332 rows × 5 columns</p>\n</div>"
          },
          "metadata": {}
        }
      ]
    },
    {
      "cell_type": "code",
      "source": "newdf['B'].isnull()",
      "metadata": {
        "trusted": true
      },
      "execution_count": 64,
      "outputs": [
        {
          "execution_count": 64,
          "output_type": "execute_result",
          "data": {
            "text/plain": "0      True\n1      True\n2      True\n3      True\n4      True\n       ... \n327    True\n328    True\n329    True\n330    True\n331    True\nName: B, Length: 332, dtype: bool"
          },
          "metadata": {}
        }
      ]
    },
    {
      "cell_type": "code",
      "source": "newdf.columns",
      "metadata": {
        "trusted": true
      },
      "execution_count": 65,
      "outputs": [
        {
          "execution_count": 65,
          "output_type": "execute_result",
          "data": {
            "text/plain": "Index(['A', 'B', 'C', 'D', 'E'], dtype='object')"
          },
          "metadata": {}
        }
      ]
    },
    {
      "cell_type": "code",
      "source": "newdf.info()",
      "metadata": {
        "trusted": true
      },
      "execution_count": 66,
      "outputs": [
        {
          "name": "stdout",
          "text": "<class 'pandas.core.frame.DataFrame'>\nRangeIndex: 332 entries, 0 to 331\nData columns (total 5 columns):\n #   Column  Non-Null Count  Dtype  \n---  ------  --------------  -----  \n 0   A       332 non-null    float64\n 1   B       0 non-null      object \n 2   C       332 non-null    float64\n 3   D       332 non-null    float64\n 4   E       332 non-null    float64\ndtypes: float64(4), object(1)\nmemory usage: 11.7+ KB\n",
          "output_type": "stream"
        }
      ]
    },
    {
      "cell_type": "code",
      "source": "newdf.describe(include = 'object')",
      "metadata": {
        "trusted": true
      },
      "execution_count": 67,
      "outputs": [
        {
          "execution_count": 67,
          "output_type": "execute_result",
          "data": {
            "text/plain": "          B\ncount     0\nunique    0\ntop     NaN\nfreq    NaN",
            "text/html": "<div>\n<style scoped>\n    .dataframe tbody tr th:only-of-type {\n        vertical-align: middle;\n    }\n\n    .dataframe tbody tr th {\n        vertical-align: top;\n    }\n\n    .dataframe thead th {\n        text-align: right;\n    }\n</style>\n<table border=\"1\" class=\"dataframe\">\n  <thead>\n    <tr style=\"text-align: right;\">\n      <th></th>\n      <th>B</th>\n    </tr>\n  </thead>\n  <tbody>\n    <tr>\n      <th>count</th>\n      <td>0</td>\n    </tr>\n    <tr>\n      <th>unique</th>\n      <td>0</td>\n    </tr>\n    <tr>\n      <th>top</th>\n      <td>NaN</td>\n    </tr>\n    <tr>\n      <th>freq</th>\n      <td>NaN</td>\n    </tr>\n  </tbody>\n</table>\n</div>"
          },
          "metadata": {}
        }
      ]
    },
    {
      "cell_type": "code",
      "source": "newdf.isnull().sum()",
      "metadata": {
        "trusted": true
      },
      "execution_count": 69,
      "outputs": [
        {
          "execution_count": 69,
          "output_type": "execute_result",
          "data": {
            "text/plain": "A      0\nB    332\nC      0\nD      0\nE      0\ndtype: int64"
          },
          "metadata": {}
        }
      ]
    },
    {
      "cell_type": "code",
      "source": "columns_to_drop = ['B']\nnewdf = newdf.drop(columns=columns_to_drop)",
      "metadata": {
        "trusted": true
      },
      "execution_count": 71,
      "outputs": []
    },
    {
      "cell_type": "code",
      "source": "newdf",
      "metadata": {
        "trusted": true
      },
      "execution_count": 72,
      "outputs": [
        {
          "execution_count": 72,
          "output_type": "execute_result",
          "data": {
            "text/plain": "              A         C         D         E\n0    654.000000  0.187282  0.250236  0.207015\n1      0.181764  0.601514  0.506261  0.206338\n2      0.865623  0.822000  0.686083  0.891896\n3      0.806405  0.308766  0.670454  0.453500\n4      0.165983  0.586083  0.891942  0.391169\n..          ...       ...       ...       ...\n327    0.410651  0.029012  0.783175  0.564175\n328    0.096585  0.024271  0.774633  0.437830\n329    0.815668  0.252176  0.527096  0.616362\n330    0.281216  0.852586  0.454990  0.814318\n331    0.991091  0.280561  0.848190  0.615016\n\n[332 rows x 4 columns]",
            "text/html": "<div>\n<style scoped>\n    .dataframe tbody tr th:only-of-type {\n        vertical-align: middle;\n    }\n\n    .dataframe tbody tr th {\n        vertical-align: top;\n    }\n\n    .dataframe thead th {\n        text-align: right;\n    }\n</style>\n<table border=\"1\" class=\"dataframe\">\n  <thead>\n    <tr style=\"text-align: right;\">\n      <th></th>\n      <th>A</th>\n      <th>C</th>\n      <th>D</th>\n      <th>E</th>\n    </tr>\n  </thead>\n  <tbody>\n    <tr>\n      <th>0</th>\n      <td>654.000000</td>\n      <td>0.187282</td>\n      <td>0.250236</td>\n      <td>0.207015</td>\n    </tr>\n    <tr>\n      <th>1</th>\n      <td>0.181764</td>\n      <td>0.601514</td>\n      <td>0.506261</td>\n      <td>0.206338</td>\n    </tr>\n    <tr>\n      <th>2</th>\n      <td>0.865623</td>\n      <td>0.822000</td>\n      <td>0.686083</td>\n      <td>0.891896</td>\n    </tr>\n    <tr>\n      <th>3</th>\n      <td>0.806405</td>\n      <td>0.308766</td>\n      <td>0.670454</td>\n      <td>0.453500</td>\n    </tr>\n    <tr>\n      <th>4</th>\n      <td>0.165983</td>\n      <td>0.586083</td>\n      <td>0.891942</td>\n      <td>0.391169</td>\n    </tr>\n    <tr>\n      <th>...</th>\n      <td>...</td>\n      <td>...</td>\n      <td>...</td>\n      <td>...</td>\n    </tr>\n    <tr>\n      <th>327</th>\n      <td>0.410651</td>\n      <td>0.029012</td>\n      <td>0.783175</td>\n      <td>0.564175</td>\n    </tr>\n    <tr>\n      <th>328</th>\n      <td>0.096585</td>\n      <td>0.024271</td>\n      <td>0.774633</td>\n      <td>0.437830</td>\n    </tr>\n    <tr>\n      <th>329</th>\n      <td>0.815668</td>\n      <td>0.252176</td>\n      <td>0.527096</td>\n      <td>0.616362</td>\n    </tr>\n    <tr>\n      <th>330</th>\n      <td>0.281216</td>\n      <td>0.852586</td>\n      <td>0.454990</td>\n      <td>0.814318</td>\n    </tr>\n    <tr>\n      <th>331</th>\n      <td>0.991091</td>\n      <td>0.280561</td>\n      <td>0.848190</td>\n      <td>0.615016</td>\n    </tr>\n  </tbody>\n</table>\n<p>332 rows × 4 columns</p>\n</div>"
          },
          "metadata": {}
        }
      ]
    },
    {
      "cell_type": "code",
      "source": "newdf.isnull().sum()",
      "metadata": {
        "trusted": true
      },
      "execution_count": 73,
      "outputs": [
        {
          "execution_count": 73,
          "output_type": "execute_result",
          "data": {
            "text/plain": "A    0\nC    0\nD    0\nE    0\ndtype: int64"
          },
          "metadata": {}
        }
      ]
    },
    {
      "cell_type": "code",
      "source": "",
      "metadata": {},
      "execution_count": null,
      "outputs": []
    }
  ]
}